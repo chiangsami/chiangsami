{
  "nbformat": 4,
  "nbformat_minor": 0,
  "metadata": {
    "colab": {
      "provenance": [],
      "machine_shape": "hm",
      "gpuType": "T4",
      "include_colab_link": true
    },
    "kernelspec": {
      "name": "python3",
      "display_name": "Python 3"
    },
    "language_info": {
      "name": "python"
    },
    "accelerator": "GPU"
  },
  "cells": [
    {
      "cell_type": "markdown",
      "metadata": {
        "id": "view-in-github",
        "colab_type": "text"
      },
      "source": [
        "<a href=\"https://colab.research.google.com/github/chiangsami/chiangsami/blob/main/Boltz1.ipynb\" target=\"_parent\"><img src=\"https://colab.research.google.com/assets/colab-badge.svg\" alt=\"Open In Colab\"/></a>"
      ]
    },
    {
      "cell_type": "markdown",
      "source": [
        "# This is a work-in-progress notebook for [Boltz](https://github.com/jwohlwend/boltz)\n",
        "# SAMI EDIT\n",
        "\n",
        "⚠️ **Warning to Users:**\n",
        "- **Alpha Version:** This notebook is currently under active development and is considered a beta version.\n",
        "- **Usage at Your Own Risk:** Use this notebook at your own discretion and risk."
      ],
      "metadata": {
        "id": "KNOrLaJFdiA-"
      }
    },
    {
      "cell_type": "code",
      "source": [
        "#@title Input protein sequence(s), then hit `Runtime` -> `Run all`\n",
        "from google.colab import files\n",
        "import os\n",
        "import re\n",
        "import hashlib\n",
        "import random\n",
        "import requests\n",
        "from string import ascii_uppercase\n",
        "\n",
        "# Function to add a hash to the jobname\n",
        "def add_hash(x, y):\n",
        "    return x + \"_\" + hashlib.sha1(y.encode()).hexdigest()[:5]\n",
        "\n",
        "# User inputs\n",
        "query_sequence = 'PIAQIHILEGRSDEQKETLIREVSEAISRSLDAPLTSVRVIITEMAKGHFGIGGELASKK'  #@param {type:\"string\"}\n",
        "#@markdown  - Use `:` to specify inter-protein chainbreaks for **modeling complexes** (supports homo- and hetro-oligomers). For example **PI...SK:PI...SK** for a homodimer\n",
        "ligand_input = 'N[C@@H](Cc1ccc(O)cc1)C(=O)O'  #@param {type:\"string\"}\n",
        "#@markdown  - Use `:` to specify multiple ligands as smile strings\n",
        "ligand_input_ccd = 'SAH'  #@param {type:\"string\"}\n",
        "#@markdown - Use `:` to specify multiple ligands as CCD codes (three-letter codes)\n",
        "ligand_input_common_name = ''  #@param {type:\"string\"}\n",
        "#@markdown - Use `:` to specify multiple ligands with their common name (e.g. Aspirin; SMILES fetched from [PubChem](https://pubchem.ncbi.nlm.nih.gov) API)\n",
        "dna_input = ''  #@param {type:\"string\"}\n",
        "#@markdown - Use `:` to specify multiple DNA sequences\n",
        "jobname = 'test'  #@param {type:\"string\"}\n",
        "\n",
        "# Clean up the query sequence and jobname\n",
        "query_sequence = \"\".join(query_sequence.split())\n",
        "ligand_input = \"\".join(ligand_input.split())\n",
        "ligand_input_ccd = \"\".join(ligand_input_ccd.split())\n",
        "ligand_input_common_name = \"\".join(ligand_input_common_name.split())\n",
        "dna_input = \"\".join(dna_input.split())\n",
        "basejobname = \"\".join(jobname.split())\n",
        "basejobname = re.sub(r'\\W+', '', basejobname)\n",
        "jobname = add_hash(basejobname, query_sequence)\n",
        "\n",
        "# Check if a directory with jobname exists\n",
        "def check(folder):\n",
        "    return not os.path.exists(folder)\n",
        "\n",
        "if not check(jobname):\n",
        "    n = 0\n",
        "    while not check(f\"{jobname}_{n}\"):\n",
        "        n += 1\n",
        "    jobname = f\"{jobname}_{n}\"\n",
        "\n",
        "# Make directory to save results\n",
        "os.makedirs(jobname, exist_ok=True)\n",
        "\n",
        "from string import ascii_uppercase\n",
        "\n",
        "# Split sequences on chain breaks\n",
        "protein_sequences = query_sequence.strip().split(':') if query_sequence.strip() else []\n",
        "ligand_sequences = ligand_input.strip().split(':') if ligand_input.strip() else []\n",
        "ligand_sequences_ccd = ligand_input_ccd.strip().split(':') if ligand_input_ccd.strip() else []\n",
        "ligand_sequences_common_name = ligand_input_common_name.strip().split(':') if ligand_input_common_name.strip() else []\n",
        "dna_sequences = dna_input.strip().split(':') if dna_input.strip() else []\n",
        "\n",
        "def get_smiles(compound_name):\n",
        "    autocomplete_url = f\"https://pubchem.ncbi.nlm.nih.gov/rest/autocomplete/compound/{compound_name}/json?limit=1\"\n",
        "    autocomplete_response = requests.get(autocomplete_url)\n",
        "    if autocomplete_response.status_code != 200:\n",
        "        return None\n",
        "\n",
        "    autocomplete_data = autocomplete_response.json()\n",
        "    if autocomplete_data.get(\"status\", {}).get(\"code\") != 0 or autocomplete_data.get(\"total\", 0) == 0:\n",
        "        return None\n",
        "\n",
        "    suggested_compound = autocomplete_data.get(\"dictionary_terms\", {}).get(\"compound\", [])\n",
        "    if not suggested_compound:\n",
        "        return None\n",
        "    suggested_compound_name = suggested_compound[0]\n",
        "\n",
        "    smiles_url = f\"https://pubchem.ncbi.nlm.nih.gov/rest/pug/compound/name/{suggested_compound_name}/property/CanonicalSMILES/JSON\"\n",
        "    smiles_response = requests.get(smiles_url)\n",
        "    if smiles_response.status_code != 200:\n",
        "        return None\n",
        "\n",
        "    smiles_data = smiles_response.json()\n",
        "    properties = smiles_data.get(\"PropertyTable\", {}).get(\"Properties\", [])\n",
        "    if len(properties) == 0:\n",
        "        return None\n",
        "\n",
        "    return properties[0].get(\"CanonicalSMILES\")\n",
        "\n",
        "smiles_cache = {}\n",
        "for name in ligand_sequences_common_name:\n",
        "    if name not in smiles_cache:\n",
        "        smiles_cache[name] = get_smiles(name)\n",
        "        if smiles_cache[name] is not None:\n",
        "          print(f\"Mapped compound {name} to {smiles_cache[name]}\")\n",
        "\n",
        "    if smiles_cache[name] is not None:\n",
        "        ligand_sequences.append(smiles_cache[name])\n",
        "\n",
        "# Initialize chain labels starting from 'A'\n",
        "chain_labels = iter(ascii_uppercase)\n",
        "\n",
        "fasta_entries = []\n",
        "csv_entries = []\n",
        "chain_label_to_seq_id = {}\n",
        "seq_to_seq_id = {}\n",
        "seq_id_counter = 0  # Counter for unique sequences\n",
        "\n",
        "# Process protein sequences\n",
        "for seq in protein_sequences:\n",
        "    seq = seq.strip()\n",
        "    if not seq:\n",
        "        continue  # Skip empty sequences\n",
        "    chain_label = next(chain_labels)\n",
        "    # Check if sequence has been seen before\n",
        "    if seq in seq_to_seq_id:\n",
        "        seq_id = seq_to_seq_id[seq]\n",
        "    else:\n",
        "        seq_id = f\"{jobname}_{seq_id_counter}\"\n",
        "        seq_to_seq_id[seq] = seq_id\n",
        "        seq_id_counter += 1\n",
        "        # For CSV file (for ColabFold), add only unique sequences\n",
        "        csv_entries.append((seq_id, seq))\n",
        "    chain_label_to_seq_id[chain_label] = seq_id\n",
        "    # For FASTA file\n",
        "    msa_path = os.path.join(jobname, f\"{seq_id}.a3m\")\n",
        "    header = f\">{chain_label}|protein|{msa_path}\"\n",
        "    sequence = seq\n",
        "    fasta_entries.append((header, sequence))\n",
        "\n",
        "# Process ligand sequences (assumed to be SMILES strings)\n",
        "for lig in ligand_sequences:\n",
        "    lig = lig.strip()\n",
        "    if not lig:\n",
        "        continue  # Skip empty ligands\n",
        "    chain_label = next(chain_labels)\n",
        "    lig_type = 'smiles'\n",
        "    header = f\">{chain_label}|{lig_type}\"\n",
        "    sequence = lig\n",
        "    fasta_entries.append((header, sequence))\n",
        "\n",
        "# Process DNA sequences (NO MSA is generated)\n",
        "for seq in dna_sequences:\n",
        "    seq = seq.strip()\n",
        "    if not seq:\n",
        "        continue  # Skip empty sequences\n",
        "    chain_label = next(chain_labels)\n",
        "    lig_type = 'DNA'\n",
        "    header = f\">{chain_label}|{lig_type}\"\n",
        "    sequence = seq\n",
        "    fasta_entries.append((header, sequence))\n",
        "\n",
        "# Process ligand sequences (CCD codes)\n",
        "for lig in ligand_sequences_ccd:\n",
        "    lig = lig.strip()\n",
        "    if not lig:\n",
        "        continue  # Skip empty ligands\n",
        "    chain_label = next(chain_labels)\n",
        "    lig_type = 'ccd'\n",
        "    header = f\">{chain_label}|{lig_type}\"\n",
        "    sequence = lig.upper()  # Ensure CCD codes are uppercase\n",
        "    fasta_entries.append((header, sequence))\n",
        "\n",
        "# Write the CSV file for ColabFold\n",
        "queries_path = os.path.join(jobname, f\"{jobname}.csv\")\n",
        "with open(queries_path, \"w\") as text_file:\n",
        "    text_file.write(\"id,sequence\\n\")\n",
        "    for seq_id, seq in csv_entries:\n",
        "        text_file.write(f\"{seq_id},{seq}\\n\")\n",
        "\n",
        "# Write the FASTA file\n",
        "queries_fasta = os.path.join(jobname, f\"{jobname}.fasta\")\n",
        "with open(queries_fasta, 'w') as f:\n",
        "    for header, sequence in fasta_entries:\n",
        "        f.write(f\"{header}\\n{sequence}\\n\")\n",
        "\n",
        "# Optionally, print the output for verification\n",
        "#print(f\"Generated FASTA file '{queries_fasta}':\\n\")\n",
        "#for header, sequence in fasta_entries:\n",
        "#    print(f\"{header}\\n{sequence}\\n\")\n"
      ],
      "metadata": {
        "cellView": "form",
        "id": "AcYvVeDESi2a"
      },
      "execution_count": null,
      "outputs": []
    },
    {
      "cell_type": "code",
      "source": [
        "#Upload YAML file\n",
        "from google.colab import files\n",
        "uploaded = files.upload()"
      ],
      "metadata": {
        "id": "dwOCZE2Qaf1l",
        "outputId": "0a03d02f-756d-4283-b98a-efb23e6a2449",
        "colab": {
          "base_uri": "https://localhost:8080/",
          "height": 73
        }
      },
      "execution_count": 2,
      "outputs": [
        {
          "output_type": "display_data",
          "data": {
            "text/plain": [
              "<IPython.core.display.HTML object>"
            ],
            "text/html": [
              "\n",
              "     <input type=\"file\" id=\"files-e6430a19-9dfd-4759-af7d-cad6f8a3d991\" name=\"files[]\" multiple disabled\n",
              "        style=\"border:none\" />\n",
              "     <output id=\"result-e6430a19-9dfd-4759-af7d-cad6f8a3d991\">\n",
              "      Upload widget is only available when the cell has been executed in the\n",
              "      current browser session. Please rerun this cell to enable.\n",
              "      </output>\n",
              "      <script>// Copyright 2017 Google LLC\n",
              "//\n",
              "// Licensed under the Apache License, Version 2.0 (the \"License\");\n",
              "// you may not use this file except in compliance with the License.\n",
              "// You may obtain a copy of the License at\n",
              "//\n",
              "//      http://www.apache.org/licenses/LICENSE-2.0\n",
              "//\n",
              "// Unless required by applicable law or agreed to in writing, software\n",
              "// distributed under the License is distributed on an \"AS IS\" BASIS,\n",
              "// WITHOUT WARRANTIES OR CONDITIONS OF ANY KIND, either express or implied.\n",
              "// See the License for the specific language governing permissions and\n",
              "// limitations under the License.\n",
              "\n",
              "/**\n",
              " * @fileoverview Helpers for google.colab Python module.\n",
              " */\n",
              "(function(scope) {\n",
              "function span(text, styleAttributes = {}) {\n",
              "  const element = document.createElement('span');\n",
              "  element.textContent = text;\n",
              "  for (const key of Object.keys(styleAttributes)) {\n",
              "    element.style[key] = styleAttributes[key];\n",
              "  }\n",
              "  return element;\n",
              "}\n",
              "\n",
              "// Max number of bytes which will be uploaded at a time.\n",
              "const MAX_PAYLOAD_SIZE = 100 * 1024;\n",
              "\n",
              "function _uploadFiles(inputId, outputId) {\n",
              "  const steps = uploadFilesStep(inputId, outputId);\n",
              "  const outputElement = document.getElementById(outputId);\n",
              "  // Cache steps on the outputElement to make it available for the next call\n",
              "  // to uploadFilesContinue from Python.\n",
              "  outputElement.steps = steps;\n",
              "\n",
              "  return _uploadFilesContinue(outputId);\n",
              "}\n",
              "\n",
              "// This is roughly an async generator (not supported in the browser yet),\n",
              "// where there are multiple asynchronous steps and the Python side is going\n",
              "// to poll for completion of each step.\n",
              "// This uses a Promise to block the python side on completion of each step,\n",
              "// then passes the result of the previous step as the input to the next step.\n",
              "function _uploadFilesContinue(outputId) {\n",
              "  const outputElement = document.getElementById(outputId);\n",
              "  const steps = outputElement.steps;\n",
              "\n",
              "  const next = steps.next(outputElement.lastPromiseValue);\n",
              "  return Promise.resolve(next.value.promise).then((value) => {\n",
              "    // Cache the last promise value to make it available to the next\n",
              "    // step of the generator.\n",
              "    outputElement.lastPromiseValue = value;\n",
              "    return next.value.response;\n",
              "  });\n",
              "}\n",
              "\n",
              "/**\n",
              " * Generator function which is called between each async step of the upload\n",
              " * process.\n",
              " * @param {string} inputId Element ID of the input file picker element.\n",
              " * @param {string} outputId Element ID of the output display.\n",
              " * @return {!Iterable<!Object>} Iterable of next steps.\n",
              " */\n",
              "function* uploadFilesStep(inputId, outputId) {\n",
              "  const inputElement = document.getElementById(inputId);\n",
              "  inputElement.disabled = false;\n",
              "\n",
              "  const outputElement = document.getElementById(outputId);\n",
              "  outputElement.innerHTML = '';\n",
              "\n",
              "  const pickedPromise = new Promise((resolve) => {\n",
              "    inputElement.addEventListener('change', (e) => {\n",
              "      resolve(e.target.files);\n",
              "    });\n",
              "  });\n",
              "\n",
              "  const cancel = document.createElement('button');\n",
              "  inputElement.parentElement.appendChild(cancel);\n",
              "  cancel.textContent = 'Cancel upload';\n",
              "  const cancelPromise = new Promise((resolve) => {\n",
              "    cancel.onclick = () => {\n",
              "      resolve(null);\n",
              "    };\n",
              "  });\n",
              "\n",
              "  // Wait for the user to pick the files.\n",
              "  const files = yield {\n",
              "    promise: Promise.race([pickedPromise, cancelPromise]),\n",
              "    response: {\n",
              "      action: 'starting',\n",
              "    }\n",
              "  };\n",
              "\n",
              "  cancel.remove();\n",
              "\n",
              "  // Disable the input element since further picks are not allowed.\n",
              "  inputElement.disabled = true;\n",
              "\n",
              "  if (!files) {\n",
              "    return {\n",
              "      response: {\n",
              "        action: 'complete',\n",
              "      }\n",
              "    };\n",
              "  }\n",
              "\n",
              "  for (const file of files) {\n",
              "    const li = document.createElement('li');\n",
              "    li.append(span(file.name, {fontWeight: 'bold'}));\n",
              "    li.append(span(\n",
              "        `(${file.type || 'n/a'}) - ${file.size} bytes, ` +\n",
              "        `last modified: ${\n",
              "            file.lastModifiedDate ? file.lastModifiedDate.toLocaleDateString() :\n",
              "                                    'n/a'} - `));\n",
              "    const percent = span('0% done');\n",
              "    li.appendChild(percent);\n",
              "\n",
              "    outputElement.appendChild(li);\n",
              "\n",
              "    const fileDataPromise = new Promise((resolve) => {\n",
              "      const reader = new FileReader();\n",
              "      reader.onload = (e) => {\n",
              "        resolve(e.target.result);\n",
              "      };\n",
              "      reader.readAsArrayBuffer(file);\n",
              "    });\n",
              "    // Wait for the data to be ready.\n",
              "    let fileData = yield {\n",
              "      promise: fileDataPromise,\n",
              "      response: {\n",
              "        action: 'continue',\n",
              "      }\n",
              "    };\n",
              "\n",
              "    // Use a chunked sending to avoid message size limits. See b/62115660.\n",
              "    let position = 0;\n",
              "    do {\n",
              "      const length = Math.min(fileData.byteLength - position, MAX_PAYLOAD_SIZE);\n",
              "      const chunk = new Uint8Array(fileData, position, length);\n",
              "      position += length;\n",
              "\n",
              "      const base64 = btoa(String.fromCharCode.apply(null, chunk));\n",
              "      yield {\n",
              "        response: {\n",
              "          action: 'append',\n",
              "          file: file.name,\n",
              "          data: base64,\n",
              "        },\n",
              "      };\n",
              "\n",
              "      let percentDone = fileData.byteLength === 0 ?\n",
              "          100 :\n",
              "          Math.round((position / fileData.byteLength) * 100);\n",
              "      percent.textContent = `${percentDone}% done`;\n",
              "\n",
              "    } while (position < fileData.byteLength);\n",
              "  }\n",
              "\n",
              "  // All done.\n",
              "  yield {\n",
              "    response: {\n",
              "      action: 'complete',\n",
              "    }\n",
              "  };\n",
              "}\n",
              "\n",
              "scope.google = scope.google || {};\n",
              "scope.google.colab = scope.google.colab || {};\n",
              "scope.google.colab._files = {\n",
              "  _uploadFiles,\n",
              "  _uploadFilesContinue,\n",
              "};\n",
              "})(self);\n",
              "</script> "
            ]
          },
          "metadata": {}
        },
        {
          "output_type": "stream",
          "name": "stdout",
          "text": [
            "Saving prot_ptp1b_test.yaml to prot_ptp1b_test.yaml\n"
          ]
        }
      ]
    },
    {
      "cell_type": "code",
      "execution_count": 3,
      "metadata": {
        "cellView": "form",
        "id": "4eXNO1JJHYrB",
        "outputId": "d7da5bd5-0382-49a7-b443-38e95f68380b",
        "colab": {
          "base_uri": "https://localhost:8080/"
        }
      },
      "outputs": [
        {
          "output_type": "stream",
          "name": "stdout",
          "text": [
            "installing colabfold...\n",
            "CPU times: user 737 ms, sys: 168 ms, total: 906 ms\n",
            "Wall time: 4min 33s\n"
          ]
        }
      ],
      "source": [
        "#@title Install dependencies\n",
        "%%time\n",
        "import os\n",
        "if not os.path.isfile(\"COLABFOLD_READY\"):\n",
        "  print(\"installing colabfold...\")\n",
        "  os.system(\"pip install -q --no-warn-conflicts 'colabfold[alphafold-minus-jax] @ git+https://github.com/sokrypton/ColabFold'\")\n",
        "  if os.environ.get('TPU_NAME', False) != False:\n",
        "    os.system(\"pip uninstall -y jax jaxlib\")\n",
        "    os.system(\"pip install --no-warn-conflicts --upgrade dm-haiku==0.0.10 'jax[cuda12_pip]'==0.3.25 -f https://storage.googleapis.com/jax-releases/jax_cuda_releases.html\")\n",
        "  os.system(\"ln -s /usr/local/lib/python3.*/dist-packages/colabfold colabfold\")\n",
        "  os.system(\"ln -s /usr/local/lib/python3.*/dist-packages/alphafold alphafold\")\n",
        "  os.system(\"touch COLABFOLD_READY\")\n",
        "\n",
        "if not os.path.isfile(\"BOLZ_READY\"):\n",
        "  os.system(\"apt-get install -y aria2\")\n",
        "  os.system(\"pip install -q --no-warn-conflicts boltz\")\n",
        "  os.system(\"mkdir weights\")\n",
        "  os.system(\"aria2c -d weights -x8 -s8 https://colabfold.steineggerlab.workers.dev/boltz1.ckpt\")\n",
        "  os.system(\"aria2c -d weights -x8 -s8 https://colabfold.steineggerlab.workers.dev/ccd.pkl\")\n",
        "  os.system(\"touch BOLZ_READY\")"
      ]
    },
    {
      "cell_type": "code",
      "source": [
        "mkdir -p /content/boltz/examples/"
      ],
      "metadata": {
        "id": "KvZorwHFch7e"
      },
      "execution_count": 4,
      "outputs": []
    },
    {
      "cell_type": "code",
      "source": [
        "import shutil\n",
        "shutil.move(\"prot_ptp1b_test.yaml\", \"/content/boltz/examples/prot_ptp1b_test.yaml\")"
      ],
      "metadata": {
        "id": "fRYqZhVWcrDd",
        "outputId": "dd64e328-3ef0-4cad-9ac9-87cb3dc5decd",
        "colab": {
          "base_uri": "https://localhost:8080/",
          "height": 35
        }
      },
      "execution_count": 5,
      "outputs": [
        {
          "output_type": "execute_result",
          "data": {
            "text/plain": [
              "'/content/boltz/examples/prot_ptp1b_test.yaml'"
            ],
            "application/vnd.google.colaboratory.intrinsic+json": {
              "type": "string"
            }
          },
          "metadata": {},
          "execution_count": 5
        }
      ]
    },
    {
      "cell_type": "code",
      "source": [
        "!boltz predict /content/boltz/examples/prot_ptp1b_test.yaml --accelerator gpu --use_msa_server"
      ],
      "metadata": {
        "id": "rMzPIWsEczHK",
        "outputId": "b3b2c8d5-1d10-4b73-802b-812870d01073",
        "colab": {
          "base_uri": "https://localhost:8080/"
        }
      },
      "execution_count": 6,
      "outputs": [
        {
          "output_type": "stream",
          "name": "stdout",
          "text": [
            "Downloading the CCD dictionary to /root/.boltz/ccd.pkl. You may change the cache directory with the --cache flag.\n",
            "Downloading the model weights to /root/.boltz/boltz1_conf.ckpt. You may change the cache directory with the --cache flag.\n",
            "Checking input data.\n",
            "Running predictions for 1 structure\n",
            "Processing input data.\n",
            "  0% 0/1 [00:00<?, ?it/s]Generating MSA for /content/boltz/examples/prot_ptp1b_test.yaml with 3 protein entities.\n",
            "\n",
            "  0% 0/450 [00:00<?, ?it/s]\u001b[A\n",
            "SUBMIT:   0% 0/450 [00:00<?, ?it/s]\u001b[A\n",
            "COMPLETE:   0% 0/450 [00:00<?, ?it/s]\u001b[A\n",
            "COMPLETE: 100% 450/450 [00:00<00:00, 512.44it/s] \n",
            "\n",
            "  0% 0/450 [00:00<?, ?it/s]\u001b[A\n",
            "SUBMIT:   0% 0/450 [00:00<?, ?it/s]\u001b[A\n",
            "COMPLETE:   0% 0/450 [00:00<?, ?it/s]\u001b[A\n",
            "COMPLETE: 100% 450/450 [00:01<00:00, 448.60it/s] \n",
            "100% 1/1 [00:02<00:00,  2.97s/it]\n",
            "GPU available: True (cuda), used: True\n",
            "TPU available: False, using: 0 TPU cores\n",
            "HPU available: False, using: 0 HPUs\n",
            "2025-02-17 19:53:59.315594: I tensorflow/core/platform/cpu_feature_guard.cc:210] This TensorFlow binary is optimized to use available CPU instructions in performance-critical operations.\n",
            "To enable the following instructions: AVX2 AVX512F FMA, in other operations, rebuild TensorFlow with the appropriate compiler flags.\n",
            "LOCAL_RANK: 0 - CUDA_VISIBLE_DEVICES: [0]\n",
            "Predicting DataLoader 0: 100% 1/1 [07:17<00:00, 437.83s/it]Number of failed examples: 0\n",
            "Predicting DataLoader 0: 100% 1/1 [07:17<00:00, 437.83s/it]\n"
          ]
        }
      ]
    },
    {
      "cell_type": "code",
      "source": [
        "ls"
      ],
      "metadata": {
        "id": "D_cqSeGZc02f",
        "outputId": "bd277e23-5bd4-48bf-f5db-095481936360",
        "colab": {
          "base_uri": "https://localhost:8080/"
        }
      },
      "execution_count": 7,
      "outputs": [
        {
          "output_type": "stream",
          "name": "stdout",
          "text": [
            "\u001b[0m\u001b[01;36malphafold\u001b[0m@  \u001b[01;34mboltz_results_prot_ptp1b_test\u001b[0m/  \u001b[01;36mcolabfold\u001b[0m@       \u001b[01;34msample_data\u001b[0m/\n",
            "\u001b[01;34mboltz\u001b[0m/      BOLZ_READY                      COLABFOLD_READY  \u001b[01;34mweights\u001b[0m/\n"
          ]
        }
      ]
    },
    {
      "cell_type": "code",
      "source": [
        "!zip -r /content/ptp1b_results.zip /content/boltz_results_prot_ptp1b_test/\n",
        "\n"
      ],
      "metadata": {
        "id": "TVqmVLqbgpWZ",
        "outputId": "616017d0-902d-4d3c-d45d-6b1120039e49",
        "colab": {
          "base_uri": "https://localhost:8080/"
        }
      },
      "execution_count": 9,
      "outputs": [
        {
          "output_type": "stream",
          "name": "stdout",
          "text": [
            "  adding: content/boltz_results_prot_ptp1b_test/ (stored 0%)\n",
            "  adding: content/boltz_results_prot_ptp1b_test/processed/ (stored 0%)\n",
            "  adding: content/boltz_results_prot_ptp1b_test/processed/manifest.json (deflated 64%)\n",
            "  adding: content/boltz_results_prot_ptp1b_test/processed/structures/ (stored 0%)\n",
            "  adding: content/boltz_results_prot_ptp1b_test/processed/structures/prot_ptp1b_test.npz (deflated 4%)\n",
            "  adding: content/boltz_results_prot_ptp1b_test/processed/msa/ (stored 0%)\n",
            "  adding: content/boltz_results_prot_ptp1b_test/processed/msa/prot_ptp1b_test_0.npz (deflated 1%)\n",
            "  adding: content/boltz_results_prot_ptp1b_test/processed/msa/prot_ptp1b_test_2.npz (deflated 34%)\n",
            "  adding: content/boltz_results_prot_ptp1b_test/processed/msa/prot_ptp1b_test_1.npz (deflated 0%)\n",
            "  adding: content/boltz_results_prot_ptp1b_test/predictions/ (stored 0%)\n",
            "  adding: content/boltz_results_prot_ptp1b_test/predictions/prot_ptp1b_test/ (stored 0%)\n",
            "  adding: content/boltz_results_prot_ptp1b_test/predictions/prot_ptp1b_test/plddt_prot_ptp1b_test_model_0.npz (stored 0%)\n",
            "  adding: content/boltz_results_prot_ptp1b_test/predictions/prot_ptp1b_test/prot_ptp1b_test_model_0.cif (deflated 73%)\n",
            "  adding: content/boltz_results_prot_ptp1b_test/predictions/prot_ptp1b_test/confidence_prot_ptp1b_test_model_0.json (deflated 63%)\n",
            "  adding: content/boltz_results_prot_ptp1b_test/lightning_logs/ (stored 0%)\n",
            "  adding: content/boltz_results_prot_ptp1b_test/lightning_logs/version_0/ (stored 0%)\n",
            "  adding: content/boltz_results_prot_ptp1b_test/lightning_logs/version_0/events.out.tfevents.1739822043.d4b112896933.4968.0 (deflated 74%)\n",
            "  adding: content/boltz_results_prot_ptp1b_test/lightning_logs/version_0/hparams.yaml (deflated 64%)\n",
            "  adding: content/boltz_results_prot_ptp1b_test/msa/ (stored 0%)\n",
            "  adding: content/boltz_results_prot_ptp1b_test/msa/prot_ptp1b_test_unpaired_tmp_env/ (stored 0%)\n",
            "  adding: content/boltz_results_prot_ptp1b_test/msa/prot_ptp1b_test_unpaired_tmp_env/out.tar.gz (deflated 0%)\n",
            "  adding: content/boltz_results_prot_ptp1b_test/msa/prot_ptp1b_test_unpaired_tmp_env/bfd.mgnify30.metaeuk30.smag30.a3m (deflated 77%)\n",
            "  adding: content/boltz_results_prot_ptp1b_test/msa/prot_ptp1b_test_unpaired_tmp_env/pdb70.m8 (deflated 79%)\n",
            "  adding: content/boltz_results_prot_ptp1b_test/msa/prot_ptp1b_test_unpaired_tmp_env/uniref.a3m (deflated 76%)\n",
            "  adding: content/boltz_results_prot_ptp1b_test/msa/prot_ptp1b_test_unpaired_tmp_env/msa.sh (deflated 74%)\n",
            "  adding: content/boltz_results_prot_ptp1b_test/msa/prot_ptp1b_test_1.csv (deflated 81%)\n",
            "  adding: content/boltz_results_prot_ptp1b_test/msa/prot_ptp1b_test_0.csv (deflated 76%)\n",
            "  adding: content/boltz_results_prot_ptp1b_test/msa/prot_ptp1b_test_2.csv (deflated 18%)\n",
            "  adding: content/boltz_results_prot_ptp1b_test/msa/prot_ptp1b_test_paired_tmp_pairgreedy-env/ (stored 0%)\n",
            "  adding: content/boltz_results_prot_ptp1b_test/msa/prot_ptp1b_test_paired_tmp_pairgreedy-env/pair.a3m (deflated 85%)\n",
            "  adding: content/boltz_results_prot_ptp1b_test/msa/prot_ptp1b_test_paired_tmp_pairgreedy-env/out.tar.gz (deflated 0%)\n",
            "  adding: content/boltz_results_prot_ptp1b_test/msa/prot_ptp1b_test_paired_tmp_pairgreedy-env/pair.sh (deflated 77%)\n"
          ]
        }
      ]
    },
    {
      "cell_type": "code",
      "source": [
        "from google.colab import files\n",
        "files.download(\"/content/ptp1b_results.zip\")\n"
      ],
      "metadata": {
        "id": "krA8sYpKgwKD",
        "outputId": "532099e6-ce9a-4fa2-cce4-ea094013b52c",
        "colab": {
          "base_uri": "https://localhost:8080/",
          "height": 17
        }
      },
      "execution_count": 10,
      "outputs": [
        {
          "output_type": "display_data",
          "data": {
            "text/plain": [
              "<IPython.core.display.Javascript object>"
            ],
            "application/javascript": [
              "\n",
              "    async function download(id, filename, size) {\n",
              "      if (!google.colab.kernel.accessAllowed) {\n",
              "        return;\n",
              "      }\n",
              "      const div = document.createElement('div');\n",
              "      const label = document.createElement('label');\n",
              "      label.textContent = `Downloading \"${filename}\": `;\n",
              "      div.appendChild(label);\n",
              "      const progress = document.createElement('progress');\n",
              "      progress.max = size;\n",
              "      div.appendChild(progress);\n",
              "      document.body.appendChild(div);\n",
              "\n",
              "      const buffers = [];\n",
              "      let downloaded = 0;\n",
              "\n",
              "      const channel = await google.colab.kernel.comms.open(id);\n",
              "      // Send a message to notify the kernel that we're ready.\n",
              "      channel.send({})\n",
              "\n",
              "      for await (const message of channel.messages) {\n",
              "        // Send a message to notify the kernel that we're ready.\n",
              "        channel.send({})\n",
              "        if (message.buffers) {\n",
              "          for (const buffer of message.buffers) {\n",
              "            buffers.push(buffer);\n",
              "            downloaded += buffer.byteLength;\n",
              "            progress.value = downloaded;\n",
              "          }\n",
              "        }\n",
              "      }\n",
              "      const blob = new Blob(buffers, {type: 'application/binary'});\n",
              "      const a = document.createElement('a');\n",
              "      a.href = window.URL.createObjectURL(blob);\n",
              "      a.download = filename;\n",
              "      div.appendChild(a);\n",
              "      a.click();\n",
              "      div.remove();\n",
              "    }\n",
              "  "
            ]
          },
          "metadata": {}
        },
        {
          "output_type": "display_data",
          "data": {
            "text/plain": [
              "<IPython.core.display.Javascript object>"
            ],
            "application/javascript": [
              "download(\"download_087695c3-4050-46b7-9686-aabd9f03b127\", \"ptp1b_results.zip\", 5345332)"
            ]
          },
          "metadata": {}
        }
      ]
    },
    {
      "cell_type": "code",
      "source": [
        "#check scores for boltz1"
      ],
      "metadata": {
        "id": "D4KeMU1bhWWf"
      },
      "execution_count": null,
      "outputs": []
    },
    {
      "cell_type": "code",
      "source": [
        "with open(\"/content/boltz_results_prot_ptp1b_test/confidence_model_0.json\") as f:\n",
        "    print(json.dumps(json.load(f), indent=4))\n",
        "\n",
        "plddt = np.load(\"/content/boltz_results_prot_ptp1b_test/plddt_model_0.npz\")[\"plddt\"]\n",
        "plt.plot(plddt)\n",
        "plt.show()\n"
      ],
      "metadata": {
        "id": "Mc0eVKTChYhb",
        "outputId": "7ca8f453-098e-4bfd-fbf5-6f201a6a7db3",
        "colab": {
          "base_uri": "https://localhost:8080/",
          "height": 211
        }
      },
      "execution_count": 11,
      "outputs": [
        {
          "output_type": "error",
          "ename": "FileNotFoundError",
          "evalue": "[Errno 2] No such file or directory: '/content/boltz_results_prot_ptp1b_test/confidence_model_0.json'",
          "traceback": [
            "\u001b[0;31m---------------------------------------------------------------------------\u001b[0m",
            "\u001b[0;31mFileNotFoundError\u001b[0m                         Traceback (most recent call last)",
            "\u001b[0;32m<ipython-input-11-3f5f936ebb93>\u001b[0m in \u001b[0;36m<cell line: 0>\u001b[0;34m()\u001b[0m\n\u001b[0;32m----> 1\u001b[0;31m \u001b[0;32mwith\u001b[0m \u001b[0mopen\u001b[0m\u001b[0;34m(\u001b[0m\u001b[0;34m\"/content/boltz_results_prot_ptp1b_test/confidence_model_0.json\"\u001b[0m\u001b[0;34m)\u001b[0m \u001b[0;32mas\u001b[0m \u001b[0mf\u001b[0m\u001b[0;34m:\u001b[0m\u001b[0;34m\u001b[0m\u001b[0;34m\u001b[0m\u001b[0m\n\u001b[0m\u001b[1;32m      2\u001b[0m     \u001b[0mprint\u001b[0m\u001b[0;34m(\u001b[0m\u001b[0mjson\u001b[0m\u001b[0;34m.\u001b[0m\u001b[0mdumps\u001b[0m\u001b[0;34m(\u001b[0m\u001b[0mjson\u001b[0m\u001b[0;34m.\u001b[0m\u001b[0mload\u001b[0m\u001b[0;34m(\u001b[0m\u001b[0mf\u001b[0m\u001b[0;34m)\u001b[0m\u001b[0;34m,\u001b[0m \u001b[0mindent\u001b[0m\u001b[0;34m=\u001b[0m\u001b[0;36m4\u001b[0m\u001b[0;34m)\u001b[0m\u001b[0;34m)\u001b[0m\u001b[0;34m\u001b[0m\u001b[0;34m\u001b[0m\u001b[0m\n\u001b[1;32m      3\u001b[0m \u001b[0;34m\u001b[0m\u001b[0m\n\u001b[1;32m      4\u001b[0m \u001b[0mplddt\u001b[0m \u001b[0;34m=\u001b[0m \u001b[0mnp\u001b[0m\u001b[0;34m.\u001b[0m\u001b[0mload\u001b[0m\u001b[0;34m(\u001b[0m\u001b[0;34m\"/content/boltz_results_prot_ptp1b_test/plddt_model_0.npz\"\u001b[0m\u001b[0;34m)\u001b[0m\u001b[0;34m[\u001b[0m\u001b[0;34m\"plddt\"\u001b[0m\u001b[0;34m]\u001b[0m\u001b[0;34m\u001b[0m\u001b[0;34m\u001b[0m\u001b[0m\n\u001b[1;32m      5\u001b[0m \u001b[0mplt\u001b[0m\u001b[0;34m.\u001b[0m\u001b[0mplot\u001b[0m\u001b[0;34m(\u001b[0m\u001b[0mplddt\u001b[0m\u001b[0;34m)\u001b[0m\u001b[0;34m\u001b[0m\u001b[0;34m\u001b[0m\u001b[0m\n",
            "\u001b[0;31mFileNotFoundError\u001b[0m: [Errno 2] No such file or directory: '/content/boltz_results_prot_ptp1b_test/confidence_model_0.json'"
          ]
        }
      ]
    },
    {
      "cell_type": "code",
      "source": [
        "pae = np.load(\"/content/boltz_results_prot_ptp1b_test/pae_model_0.npz\")[\"pae\"]\n",
        "plt.imshow(pae, cmap=\"coolwarm\")\n",
        "plt.colorbar()\n",
        "plt.show()\n"
      ],
      "metadata": {
        "id": "INudZWt-hpzE"
      },
      "execution_count": null,
      "outputs": []
    },
    {
      "cell_type": "code",
      "source": [
        "\n"
      ],
      "metadata": {
        "id": "jx5jMSmziQBA",
        "outputId": "aa1c0b27-960c-4ddf-c48f-188b5a8bbd0b",
        "colab": {
          "base_uri": "https://localhost:8080/"
        }
      },
      "execution_count": 12,
      "outputs": [
        {
          "output_type": "stream",
          "name": "stdout",
          "text": [
            "total 12K\n",
            "-rw-r--r-- 1 root root  723 Feb 17 19:53 manifest.json\n",
            "drwxr-xr-x 2 root root 4.0K Feb 17 19:53 \u001b[0m\u001b[01;34mmsa\u001b[0m/\n",
            "drwxr-xr-x 2 root root 4.0K Feb 17 19:53 \u001b[01;34mstructures\u001b[0m/\n"
          ]
        }
      ]
    },
    {
      "cell_type": "code",
      "source": [
        "#@title Generate MSA with ColabFold\n",
        "!colabfold_batch \"{queries_path}\" \"{jobname}\" --msa-only"
      ],
      "metadata": {
        "cellView": "form",
        "id": "4aFDR4IhRe6y"
      },
      "execution_count": null,
      "outputs": []
    },
    {
      "cell_type": "code",
      "source": [
        "#@title Predict structure using boltz\n",
        "!boltz predict --out_dir \"{jobname}\" \"{jobname}/{jobname}.fasta\" --cache weights"
      ],
      "metadata": {
        "cellView": "form",
        "id": "bgaBXxXtIAu9"
      },
      "execution_count": null,
      "outputs": []
    },
    {
      "cell_type": "code",
      "source": [
        "#@title Download results\n",
        "# Import necessary modules\n",
        "import os\n",
        "import zipfile\n",
        "from google.colab import files\n",
        "import glob\n",
        "\n",
        "# Ensure 'jobname' variable is defined\n",
        "# jobname = 'test_abcde'  # Uncomment and set if not already defined\n",
        "\n",
        "# Name of the zip file\n",
        "zip_filename = f\"results_{jobname}.zip\"\n",
        "\n",
        "# Create a zip file and add the specified files without preserving directory structure\n",
        "with zipfile.ZipFile(zip_filename, 'w') as zipf:\n",
        "    coverage_png_files = glob.glob(os.path.join(jobname, '*_coverage.png'))\n",
        "    a3m_files = glob.glob(os.path.join(jobname, '*.a3m'))\n",
        "    for file in coverage_png_files + a3m_files:\n",
        "        arcname = os.path.basename(file)  # Use only the file name\n",
        "        zipf.write(file, arcname=arcname)\n",
        "\n",
        "    cif_files = glob.glob(os.path.join(jobname, f'boltz_results_{jobname}', 'predictions', jobname, '*.cif'))\n",
        "    for file in cif_files:\n",
        "        arcname = os.path.basename(file)  # Use only the file name\n",
        "        zipf.write(file, arcname=arcname)\n",
        "\n",
        "    hparams_file = os.path.join(jobname, f'boltz_results_{jobname}', 'lightning_logs', 'version_0', 'hparams.yaml')\n",
        "    if os.path.exists(hparams_file):\n",
        "        arcname = os.path.basename(hparams_file)  # Use only the file name\n",
        "        zipf.write(hparams_file, arcname=arcname)\n",
        "    else:\n",
        "        print(f\"Warning: {hparams_file} not found.\")\n",
        "\n",
        "# Download the zip file\n",
        "files.download(zip_filename)\n"
      ],
      "metadata": {
        "cellView": "form",
        "id": "jdSBSTOpaULF"
      },
      "execution_count": null,
      "outputs": []
    }
  ]
}